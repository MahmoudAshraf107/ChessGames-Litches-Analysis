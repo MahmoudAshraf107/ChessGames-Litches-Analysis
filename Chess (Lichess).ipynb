{
 "cells": [
  {
   "cell_type": "markdown",
   "metadata": {},
   "source": [
    "# Data Set\n",
    "This is a set of just over 20,000 games collected from a selection of users on the site Lichess.org, and how to collect more. I will also upload more games in the future as I collect them. This set contains the:\n",
    "\n",
    "- Game ID\n",
    "- Rated (T/F)\n",
    "- Start Time\n",
    "- End Time\n",
    "- Number of Turns\n",
    "- Game Status\n",
    "-  Winner\n",
    "- Time Increment\n",
    "- White Player ID\n",
    "- White Player Rating\n",
    "- Black Player ID\n",
    "- Black Player Rating\n",
    "- All Moves in Standard Chess Notation\n",
    "- Opening Eco (Standardised Code for any given opening, list here)\n",
    "- Opening Name\n",
    "- Opening Ply (Number of moves in the opening phase)\n",
    "For each of these separate games from Lichess. I collected this data using the Lichess API, which enables collection of any given users game history. \n",
    "The difficult part was collecting usernames to use, however the API also enables dumping of all users in a Lichess team. There are several teams on Lichess with over 1,500 players, so this proved an effective way to get users to collect games from.\n",
    "\n",
    "# Possible Uses\n",
    "\n",
    "Lots of information is contained within a single chess game, let alone a full dataset of multiple games. It is primarily a game of patterns, and data science is all about detecting patterns in data, which is why chess has been one of the most invested in areas of AI in the past. This dataset collects all of the information available from 20,000 games and presents it in a format that is easy to process for analysis of, for example, what allows a player to win as black or white, how much meta (out-of-game) factors affect a game, the relationship between openings and victory for black and white and more."
   ]
  },
  {
   "cell_type": "markdown",
   "metadata": {},
   "source": [
    "\n",
    "# Analysis Questions:\n",
    "\n",
    "1. What is the best opening?\n",
    "2. The effect of Rated games on Resign?\n",
    "3. The Heights rating win the chess game?\n",
    "4. The effect of games time the results?\n",
    "5. Evaluation of the player selection Algorithms.\n",
    "6. Games Distribution throughout the day."
   ]
  },
  {
   "cell_type": "markdown",
   "metadata": {},
   "source": [
    "Importing Required Modules and Libraries"
   ]
  },
  {
   "cell_type": "code",
   "execution_count": 1,
   "metadata": {},
   "outputs": [],
   "source": [
    "import pandas as pd\n",
    "import numpy as np\n",
    "import matplotlib.pyplot as plt\n",
    "import datetime\n",
    "import seaborn as sns"
   ]
  },
  {
   "cell_type": "markdown",
   "metadata": {},
   "source": [
    "Read Dataset From CSV File"
   ]
  },
  {
   "cell_type": "code",
   "execution_count": 2,
   "metadata": {},
   "outputs": [
    {
     "data": {
      "text/html": [
       "<div>\n",
       "<style scoped>\n",
       "    .dataframe tbody tr th:only-of-type {\n",
       "        vertical-align: middle;\n",
       "    }\n",
       "\n",
       "    .dataframe tbody tr th {\n",
       "        vertical-align: top;\n",
       "    }\n",
       "\n",
       "    .dataframe thead th {\n",
       "        text-align: right;\n",
       "    }\n",
       "</style>\n",
       "<table border=\"1\" class=\"dataframe\">\n",
       "  <thead>\n",
       "    <tr style=\"text-align: right;\">\n",
       "      <th></th>\n",
       "      <th>id</th>\n",
       "      <th>rated</th>\n",
       "      <th>created_at</th>\n",
       "      <th>last_move_at</th>\n",
       "      <th>turns</th>\n",
       "      <th>victory_status</th>\n",
       "      <th>winner</th>\n",
       "      <th>increment_code</th>\n",
       "      <th>white_id</th>\n",
       "      <th>white_rating</th>\n",
       "      <th>black_id</th>\n",
       "      <th>black_rating</th>\n",
       "      <th>moves</th>\n",
       "      <th>opening_eco</th>\n",
       "      <th>opening_name</th>\n",
       "      <th>opening_ply</th>\n",
       "    </tr>\n",
       "  </thead>\n",
       "  <tbody>\n",
       "    <tr>\n",
       "      <th>0</th>\n",
       "      <td>TZJHLljE</td>\n",
       "      <td>False</td>\n",
       "      <td>1.504210e+12</td>\n",
       "      <td>1.504210e+12</td>\n",
       "      <td>13</td>\n",
       "      <td>outoftime</td>\n",
       "      <td>white</td>\n",
       "      <td>15+2</td>\n",
       "      <td>bourgris</td>\n",
       "      <td>1500</td>\n",
       "      <td>a-00</td>\n",
       "      <td>1191</td>\n",
       "      <td>d4 d5 c4 c6 cxd5 e6 dxe6 fxe6 Nf3 Bb4+ Nc3 Ba5...</td>\n",
       "      <td>D10</td>\n",
       "      <td>Slav Defense: Exchange Variation</td>\n",
       "      <td>5</td>\n",
       "    </tr>\n",
       "    <tr>\n",
       "      <th>1</th>\n",
       "      <td>l1NXvwaE</td>\n",
       "      <td>True</td>\n",
       "      <td>1.504130e+12</td>\n",
       "      <td>1.504130e+12</td>\n",
       "      <td>16</td>\n",
       "      <td>resign</td>\n",
       "      <td>black</td>\n",
       "      <td>5+10</td>\n",
       "      <td>a-00</td>\n",
       "      <td>1322</td>\n",
       "      <td>skinnerua</td>\n",
       "      <td>1261</td>\n",
       "      <td>d4 Nc6 e4 e5 f4 f6 dxe5 fxe5 fxe5 Nxe5 Qd4 Nc6...</td>\n",
       "      <td>B00</td>\n",
       "      <td>Nimzowitsch Defense: Kennedy Variation</td>\n",
       "      <td>4</td>\n",
       "    </tr>\n",
       "    <tr>\n",
       "      <th>2</th>\n",
       "      <td>mIICvQHh</td>\n",
       "      <td>True</td>\n",
       "      <td>1.504130e+12</td>\n",
       "      <td>1.504130e+12</td>\n",
       "      <td>61</td>\n",
       "      <td>mate</td>\n",
       "      <td>white</td>\n",
       "      <td>5+10</td>\n",
       "      <td>ischia</td>\n",
       "      <td>1496</td>\n",
       "      <td>a-00</td>\n",
       "      <td>1500</td>\n",
       "      <td>e4 e5 d3 d6 Be3 c6 Be2 b5 Nd2 a5 a4 c5 axb5 Nc...</td>\n",
       "      <td>C20</td>\n",
       "      <td>King's Pawn Game: Leonardis Variation</td>\n",
       "      <td>3</td>\n",
       "    </tr>\n",
       "    <tr>\n",
       "      <th>3</th>\n",
       "      <td>kWKvrqYL</td>\n",
       "      <td>True</td>\n",
       "      <td>1.504110e+12</td>\n",
       "      <td>1.504110e+12</td>\n",
       "      <td>61</td>\n",
       "      <td>mate</td>\n",
       "      <td>white</td>\n",
       "      <td>20+0</td>\n",
       "      <td>daniamurashov</td>\n",
       "      <td>1439</td>\n",
       "      <td>adivanov2009</td>\n",
       "      <td>1454</td>\n",
       "      <td>d4 d5 Nf3 Bf5 Nc3 Nf6 Bf4 Ng4 e3 Nc6 Be2 Qd7 O...</td>\n",
       "      <td>D02</td>\n",
       "      <td>Queen's Pawn Game: Zukertort Variation</td>\n",
       "      <td>3</td>\n",
       "    </tr>\n",
       "    <tr>\n",
       "      <th>4</th>\n",
       "      <td>9tXo1AUZ</td>\n",
       "      <td>True</td>\n",
       "      <td>1.504030e+12</td>\n",
       "      <td>1.504030e+12</td>\n",
       "      <td>95</td>\n",
       "      <td>mate</td>\n",
       "      <td>white</td>\n",
       "      <td>30+3</td>\n",
       "      <td>nik221107</td>\n",
       "      <td>1523</td>\n",
       "      <td>adivanov2009</td>\n",
       "      <td>1469</td>\n",
       "      <td>e4 e5 Nf3 d6 d4 Nc6 d5 Nb4 a3 Na6 Nc3 Be7 b4 N...</td>\n",
       "      <td>C41</td>\n",
       "      <td>Philidor Defense</td>\n",
       "      <td>5</td>\n",
       "    </tr>\n",
       "  </tbody>\n",
       "</table>\n",
       "</div>"
      ],
      "text/plain": [
       "         id  rated    created_at  last_move_at  turns victory_status winner  \\\n",
       "0  TZJHLljE  False  1.504210e+12  1.504210e+12     13      outoftime  white   \n",
       "1  l1NXvwaE   True  1.504130e+12  1.504130e+12     16         resign  black   \n",
       "2  mIICvQHh   True  1.504130e+12  1.504130e+12     61           mate  white   \n",
       "3  kWKvrqYL   True  1.504110e+12  1.504110e+12     61           mate  white   \n",
       "4  9tXo1AUZ   True  1.504030e+12  1.504030e+12     95           mate  white   \n",
       "\n",
       "  increment_code       white_id  white_rating      black_id  black_rating  \\\n",
       "0           15+2       bourgris          1500          a-00          1191   \n",
       "1           5+10           a-00          1322     skinnerua          1261   \n",
       "2           5+10         ischia          1496          a-00          1500   \n",
       "3           20+0  daniamurashov          1439  adivanov2009          1454   \n",
       "4           30+3      nik221107          1523  adivanov2009          1469   \n",
       "\n",
       "                                               moves opening_eco  \\\n",
       "0  d4 d5 c4 c6 cxd5 e6 dxe6 fxe6 Nf3 Bb4+ Nc3 Ba5...         D10   \n",
       "1  d4 Nc6 e4 e5 f4 f6 dxe5 fxe5 fxe5 Nxe5 Qd4 Nc6...         B00   \n",
       "2  e4 e5 d3 d6 Be3 c6 Be2 b5 Nd2 a5 a4 c5 axb5 Nc...         C20   \n",
       "3  d4 d5 Nf3 Bf5 Nc3 Nf6 Bf4 Ng4 e3 Nc6 Be2 Qd7 O...         D02   \n",
       "4  e4 e5 Nf3 d6 d4 Nc6 d5 Nb4 a3 Na6 Nc3 Be7 b4 N...         C41   \n",
       "\n",
       "                             opening_name  opening_ply  \n",
       "0        Slav Defense: Exchange Variation            5  \n",
       "1  Nimzowitsch Defense: Kennedy Variation            4  \n",
       "2   King's Pawn Game: Leonardis Variation            3  \n",
       "3  Queen's Pawn Game: Zukertort Variation            3  \n",
       "4                        Philidor Defense            5  "
      ]
     },
     "execution_count": 2,
     "metadata": {},
     "output_type": "execute_result"
    }
   ],
   "source": [
    "raw_df=pd.read_csv(r'D:\\Books and courses\\Courses\\Machine Learning\\Data Projects\\Chess (Lichess)\\games.csv')\n",
    "raw_df.head()"
   ]
  },
  {
   "cell_type": "markdown",
   "metadata": {},
   "source": [
    "--------------------------\n",
    "# Data Preprocessing\n"
   ]
  },
  {
   "cell_type": "markdown",
   "metadata": {},
   "source": [
    "Change Columns Name"
   ]
  },
  {
   "cell_type": "code",
   "execution_count": 3,
   "metadata": {},
   "outputs": [],
   "source": [
    "raw_df.columns=raw_df.columns.str.replace('rated','Game Type')"
   ]
  },
  {
   "cell_type": "markdown",
   "metadata": {},
   "source": [
    "Replace _ with Space in Columns Name"
   ]
  },
  {
   "cell_type": "code",
   "execution_count": 4,
   "metadata": {},
   "outputs": [],
   "source": [
    "columns=[i.replace('_',' ') for i in raw_df.columns]"
   ]
  },
  {
   "cell_type": "markdown",
   "metadata": {},
   "source": [
    "capitalize the first letter of each word "
   ]
  },
  {
   "cell_type": "code",
   "execution_count": 5,
   "metadata": {},
   "outputs": [],
   "source": [
    "raw_df.columns=[i.title() for i in columns]\n",
    "raw_df.columns=raw_df.columns.str.replace('Opening Eco','Opening ECO')"
   ]
  },
  {
   "cell_type": "markdown",
   "metadata": {},
   "source": [
    "---------------\n",
    "# Data Exploration\n"
   ]
  },
  {
   "cell_type": "markdown",
   "metadata": {},
   "source": [
    "The Shape of DataFrame"
   ]
  },
  {
   "cell_type": "code",
   "execution_count": 6,
   "metadata": {},
   "outputs": [
    {
     "data": {
      "text/plain": [
       "(20058, 16)"
      ]
     },
     "execution_count": 6,
     "metadata": {},
     "output_type": "execute_result"
    }
   ],
   "source": [
    "raw_df.shape"
   ]
  },
  {
   "cell_type": "code",
   "execution_count": 7,
   "metadata": {},
   "outputs": [
    {
     "data": {
      "text/html": [
       "<div>\n",
       "<style scoped>\n",
       "    .dataframe tbody tr th:only-of-type {\n",
       "        vertical-align: middle;\n",
       "    }\n",
       "\n",
       "    .dataframe tbody tr th {\n",
       "        vertical-align: top;\n",
       "    }\n",
       "\n",
       "    .dataframe thead th {\n",
       "        text-align: right;\n",
       "    }\n",
       "</style>\n",
       "<table border=\"1\" class=\"dataframe\">\n",
       "  <thead>\n",
       "    <tr style=\"text-align: right;\">\n",
       "      <th></th>\n",
       "      <th>Created At</th>\n",
       "      <th>Last Move At</th>\n",
       "      <th>Turns</th>\n",
       "      <th>White Rating</th>\n",
       "      <th>Black Rating</th>\n",
       "      <th>Opening Ply</th>\n",
       "    </tr>\n",
       "  </thead>\n",
       "  <tbody>\n",
       "    <tr>\n",
       "      <th>count</th>\n",
       "      <td>2.005800e+04</td>\n",
       "      <td>2.005800e+04</td>\n",
       "      <td>20058.000000</td>\n",
       "      <td>20058.000000</td>\n",
       "      <td>20058.000000</td>\n",
       "      <td>20058.000000</td>\n",
       "    </tr>\n",
       "    <tr>\n",
       "      <th>mean</th>\n",
       "      <td>1.483617e+12</td>\n",
       "      <td>1.483618e+12</td>\n",
       "      <td>60.465999</td>\n",
       "      <td>1596.631868</td>\n",
       "      <td>1588.831987</td>\n",
       "      <td>4.816981</td>\n",
       "    </tr>\n",
       "    <tr>\n",
       "      <th>std</th>\n",
       "      <td>2.850151e+10</td>\n",
       "      <td>2.850140e+10</td>\n",
       "      <td>33.570585</td>\n",
       "      <td>291.253376</td>\n",
       "      <td>291.036126</td>\n",
       "      <td>2.797152</td>\n",
       "    </tr>\n",
       "    <tr>\n",
       "      <th>min</th>\n",
       "      <td>1.376772e+12</td>\n",
       "      <td>1.376772e+12</td>\n",
       "      <td>1.000000</td>\n",
       "      <td>784.000000</td>\n",
       "      <td>789.000000</td>\n",
       "      <td>1.000000</td>\n",
       "    </tr>\n",
       "    <tr>\n",
       "      <th>25%</th>\n",
       "      <td>1.477548e+12</td>\n",
       "      <td>1.477548e+12</td>\n",
       "      <td>37.000000</td>\n",
       "      <td>1398.000000</td>\n",
       "      <td>1391.000000</td>\n",
       "      <td>3.000000</td>\n",
       "    </tr>\n",
       "    <tr>\n",
       "      <th>50%</th>\n",
       "      <td>1.496010e+12</td>\n",
       "      <td>1.496010e+12</td>\n",
       "      <td>55.000000</td>\n",
       "      <td>1567.000000</td>\n",
       "      <td>1562.000000</td>\n",
       "      <td>4.000000</td>\n",
       "    </tr>\n",
       "    <tr>\n",
       "      <th>75%</th>\n",
       "      <td>1.503170e+12</td>\n",
       "      <td>1.503170e+12</td>\n",
       "      <td>79.000000</td>\n",
       "      <td>1793.000000</td>\n",
       "      <td>1784.000000</td>\n",
       "      <td>6.000000</td>\n",
       "    </tr>\n",
       "    <tr>\n",
       "      <th>max</th>\n",
       "      <td>1.504493e+12</td>\n",
       "      <td>1.504494e+12</td>\n",
       "      <td>349.000000</td>\n",
       "      <td>2700.000000</td>\n",
       "      <td>2723.000000</td>\n",
       "      <td>28.000000</td>\n",
       "    </tr>\n",
       "  </tbody>\n",
       "</table>\n",
       "</div>"
      ],
      "text/plain": [
       "         Created At  Last Move At         Turns  White Rating  Black Rating  \\\n",
       "count  2.005800e+04  2.005800e+04  20058.000000  20058.000000  20058.000000   \n",
       "mean   1.483617e+12  1.483618e+12     60.465999   1596.631868   1588.831987   \n",
       "std    2.850151e+10  2.850140e+10     33.570585    291.253376    291.036126   \n",
       "min    1.376772e+12  1.376772e+12      1.000000    784.000000    789.000000   \n",
       "25%    1.477548e+12  1.477548e+12     37.000000   1398.000000   1391.000000   \n",
       "50%    1.496010e+12  1.496010e+12     55.000000   1567.000000   1562.000000   \n",
       "75%    1.503170e+12  1.503170e+12     79.000000   1793.000000   1784.000000   \n",
       "max    1.504493e+12  1.504494e+12    349.000000   2700.000000   2723.000000   \n",
       "\n",
       "        Opening Ply  \n",
       "count  20058.000000  \n",
       "mean       4.816981  \n",
       "std        2.797152  \n",
       "min        1.000000  \n",
       "25%        3.000000  \n",
       "50%        4.000000  \n",
       "75%        6.000000  \n",
       "max       28.000000  "
      ]
     },
     "execution_count": 7,
     "metadata": {},
     "output_type": "execute_result"
    }
   ],
   "source": [
    "raw_df.describe()"
   ]
  },
  {
   "cell_type": "markdown",
   "metadata": {},
   "source": [
    "Raw DataFrame Info "
   ]
  },
  {
   "cell_type": "code",
   "execution_count": 8,
   "metadata": {},
   "outputs": [
    {
     "name": "stdout",
     "output_type": "stream",
     "text": [
      "<class 'pandas.core.frame.DataFrame'>\n",
      "RangeIndex: 20058 entries, 0 to 20057\n",
      "Data columns (total 16 columns):\n",
      " #   Column          Non-Null Count  Dtype  \n",
      "---  ------          --------------  -----  \n",
      " 0   Id              20058 non-null  object \n",
      " 1   Game Type       20058 non-null  bool   \n",
      " 2   Created At      20058 non-null  float64\n",
      " 3   Last Move At    20058 non-null  float64\n",
      " 4   Turns           20058 non-null  int64  \n",
      " 5   Victory Status  20058 non-null  object \n",
      " 6   Winner          20058 non-null  object \n",
      " 7   Increment Code  20058 non-null  object \n",
      " 8   White Id        20058 non-null  object \n",
      " 9   White Rating    20058 non-null  int64  \n",
      " 10  Black Id        20058 non-null  object \n",
      " 11  Black Rating    20058 non-null  int64  \n",
      " 12  Moves           20058 non-null  object \n",
      " 13  Opening ECO     20058 non-null  object \n",
      " 14  Opening Name    20058 non-null  object \n",
      " 15  Opening Ply     20058 non-null  int64  \n",
      "dtypes: bool(1), float64(2), int64(4), object(9)\n",
      "memory usage: 2.3+ MB\n"
     ]
    }
   ],
   "source": [
    "raw_df.info()"
   ]
  },
  {
   "cell_type": "markdown",
   "metadata": {},
   "source": [
    "Rating Difference Between Players"
   ]
  },
  {
   "cell_type": "code",
   "execution_count": 9,
   "metadata": {},
   "outputs": [],
   "source": [
    "raw_df['Rating Difference']=np.abs(raw_df['White Rating']-raw_df['Black Rating'])"
   ]
  },
  {
   "cell_type": "markdown",
   "metadata": {},
   "source": [
    "Visualizing statistics plots"
   ]
  },
  {
   "cell_type": "code",
   "execution_count": 10,
   "metadata": {},
   "outputs": [
    {
     "data": {
      "image/png": "[encoded data removed]",
      "text/plain": [
       "<Figure size 576x288 with 1 Axes>"
      ]
     },
     "metadata": {
      "needs_background": "light"
     },
     "output_type": "display_data"
    },
    {
     "data": {
      "image/png": "[encoded data removed]",
      "text/plain": [
       "<Figure size 576x288 with 1 Axes>"
      ]
     },
     "metadata": {
      "needs_background": "light"
     },
     "output_type": "display_data"
    },
    {
     "data": {
      "image/png": "[encoded data removed]",
      "text/plain": [
       "<Figure size 576x288 with 1 Axes>"
      ]
     },
     "metadata": {
      "needs_background": "light"
     },
     "output_type": "display_data"
    }
   ],
   "source": [
    "A=['Turns','Victory Status', 'Rating Difference']\n",
    "B=['Distribution of games length in turns', 'Distribution of victory statuses','Distribution of rating difference between players']\n",
    "\n",
    "variables=zip(A,B)\n",
    "for var, title in variables :\n",
    "    sns.displot(\n",
    "        raw_df[var],\n",
    "        height=4, \n",
    "        aspect=2\n",
    "    )\n",
    "    plt.title(title)\n",
    "    plt.xlim((0))\n",
    "    plt.ylim((0))\n",
    "    plt.show()\n"
   ]
  },
  {
   "cell_type": "markdown",
   "metadata": {},
   "source": [
    "Exploration Notes \n",
    "-------------------\n",
    "1. No Missing Data (GOOD ^_^ ).\n",
    "2. More Than 50% of Games end with Resign, Why?\n",
    "3. I Think the Rating Difference Distribution is Acceptable  the Algorithms tried to Reduce it.\n",
    "4. There are Games with High Turns Rate or High Duration (Outliers) can mislead the ML Algorithm in future.\n",
    "5. Game Type Columns is Bool type.\n",
    "6. The Columns of Creation Have The Same Values of Last Move\n",
    "7. Moves Column is Unnecessary"
   ]
  },
  {
   "cell_type": "markdown",
   "metadata": {},
   "source": [
    "--------------------------\n",
    "# Dropping Invalid Data\n"
   ]
  },
  {
   "cell_type": "markdown",
   "metadata": {},
   "source": [
    "Make A Copy of the DataFrame"
   ]
  },
  {
   "cell_type": "code",
   "execution_count": 11,
   "metadata": {},
   "outputs": [
    {
     "data": {
      "text/plain": [
       "(20058, 17)"
      ]
     },
     "execution_count": 11,
     "metadata": {},
     "output_type": "execute_result"
    }
   ],
   "source": [
    "df=raw_df.copy()\n",
    "df.shape"
   ]
  },
  {
   "cell_type": "markdown",
   "metadata": {},
   "source": [
    "Drop the Unnecessary Data Such as Moves"
   ]
  },
  {
   "cell_type": "code",
   "execution_count": 12,
   "metadata": {},
   "outputs": [],
   "source": [
    "df.drop(['Moves','Id','Opening Ply'],axis=1,inplace=True)"
   ]
  },
  {
   "cell_type": "markdown",
   "metadata": {},
   "source": [
    "Drop Duplicated Samples"
   ]
  },
  {
   "cell_type": "code",
   "execution_count": 13,
   "metadata": {},
   "outputs": [],
   "source": [
    "df.drop_duplicates(inplace=True)"
   ]
  },
  {
   "cell_type": "markdown",
   "metadata": {},
   "source": [
    "----------------------------------\n",
    "# Data Processing\n"
   ]
  },
  {
   "cell_type": "markdown",
   "metadata": {},
   "source": [
    "Get the Date and Time"
   ]
  },
  {
   "cell_type": "code",
   "execution_count": 14,
   "metadata": {},
   "outputs": [],
   "source": [
    "df['Date']=pd.to_datetime(df['Last Move At'], unit='ms').dt.strftime('%Y-%m-%d')\n",
    "df['Time']=pd.to_datetime(df['Last Move At'], unit='ms').dt.strftime('%H:%M:%S')"
   ]
  },
  {
   "cell_type": "markdown",
   "metadata": {},
   "source": [
    "Game Duartion and its Freq"
   ]
  },
  {
   "cell_type": "code",
   "execution_count": 15,
   "metadata": {},
   "outputs": [],
   "source": [
    "df['Duration']=pd.to_datetime(df['Last Move At']-df['Created At'], unit='ms').dt.strftime('%H:%M:%S')"
   ]
  },
  {
   "cell_type": "code",
   "execution_count": 16,
   "metadata": {},
   "outputs": [
    {
     "data": {
      "text/plain": [
       "00:00:00    8533\n",
       "02:46:40     732\n",
       "00:00:06      23\n",
       "00:00:04      23\n",
       "00:09:12      20\n",
       "            ... \n",
       "00:53:58       1\n",
       "00:23:49       1\n",
       "00:21:57       1\n",
       "00:45:37       1\n",
       "01:07:22       1\n",
       "Name: Duration, Length: 2311, dtype: int64"
      ]
     },
     "execution_count": 16,
     "metadata": {},
     "output_type": "execute_result"
    }
   ],
   "source": [
    "df['Duration'].value_counts()"
   ]
  },
  {
   "cell_type": "markdown",
   "metadata": {},
   "source": [
    "Convert outoftime in Victory to OFT"
   ]
  },
  {
   "cell_type": "code",
   "execution_count": 17,
   "metadata": {},
   "outputs": [],
   "source": [
    "df['Victory Status']=df['Victory Status'].str.replace('outoftime','OFT')"
   ]
  },
  {
   "cell_type": "markdown",
   "metadata": {},
   "source": [
    "--------------------------"
   ]
  },
  {
   "cell_type": "markdown",
   "metadata": {},
   "source": [
    "# Notes\n",
    "1. Around 50% of Games Duration is 00:00:00 (So this Column is invalid Data).\n",
    "2. Instead of Duration I will Use Creation Data and Time "
   ]
  },
  {
   "cell_type": "markdown",
   "metadata": {},
   "source": [
    "---------------------------\n",
    "# Data Processing #2\n"
   ]
  },
  {
   "cell_type": "markdown",
   "metadata": {},
   "source": [
    "Dropping Some Unnecessary Columns"
   ]
  },
  {
   "cell_type": "code",
   "execution_count": 18,
   "metadata": {},
   "outputs": [
    {
     "data": {
      "text/html": [
       "<div>\n",
       "<style scoped>\n",
       "    .dataframe tbody tr th:only-of-type {\n",
       "        vertical-align: middle;\n",
       "    }\n",
       "\n",
       "    .dataframe tbody tr th {\n",
       "        vertical-align: top;\n",
       "    }\n",
       "\n",
       "    .dataframe thead th {\n",
       "        text-align: right;\n",
       "    }\n",
       "</style>\n",
       "<table border=\"1\" class=\"dataframe\">\n",
       "  <thead>\n",
       "    <tr style=\"text-align: right;\">\n",
       "      <th></th>\n",
       "      <th>Game Type</th>\n",
       "      <th>Turns</th>\n",
       "      <th>Victory Status</th>\n",
       "      <th>Winner</th>\n",
       "      <th>Increment Code</th>\n",
       "      <th>White Id</th>\n",
       "      <th>White Rating</th>\n",
       "      <th>Black Id</th>\n",
       "      <th>Black Rating</th>\n",
       "      <th>Opening ECO</th>\n",
       "      <th>Opening Name</th>\n",
       "      <th>Rating Difference</th>\n",
       "      <th>Date</th>\n",
       "      <th>Time</th>\n",
       "    </tr>\n",
       "  </thead>\n",
       "  <tbody>\n",
       "    <tr>\n",
       "      <th>0</th>\n",
       "      <td>False</td>\n",
       "      <td>13</td>\n",
       "      <td>OFT</td>\n",
       "      <td>white</td>\n",
       "      <td>15+2</td>\n",
       "      <td>bourgris</td>\n",
       "      <td>1500</td>\n",
       "      <td>a-00</td>\n",
       "      <td>1191</td>\n",
       "      <td>D10</td>\n",
       "      <td>Slav Defense: Exchange Variation</td>\n",
       "      <td>309</td>\n",
       "      <td>2017-08-31</td>\n",
       "      <td>20:06:40</td>\n",
       "    </tr>\n",
       "    <tr>\n",
       "      <th>1</th>\n",
       "      <td>True</td>\n",
       "      <td>16</td>\n",
       "      <td>resign</td>\n",
       "      <td>black</td>\n",
       "      <td>5+10</td>\n",
       "      <td>a-00</td>\n",
       "      <td>1322</td>\n",
       "      <td>skinnerua</td>\n",
       "      <td>1261</td>\n",
       "      <td>B00</td>\n",
       "      <td>Nimzowitsch Defense: Kennedy Variation</td>\n",
       "      <td>61</td>\n",
       "      <td>2017-08-30</td>\n",
       "      <td>21:53:20</td>\n",
       "    </tr>\n",
       "    <tr>\n",
       "      <th>2</th>\n",
       "      <td>True</td>\n",
       "      <td>61</td>\n",
       "      <td>mate</td>\n",
       "      <td>white</td>\n",
       "      <td>5+10</td>\n",
       "      <td>ischia</td>\n",
       "      <td>1496</td>\n",
       "      <td>a-00</td>\n",
       "      <td>1500</td>\n",
       "      <td>C20</td>\n",
       "      <td>King's Pawn Game: Leonardis Variation</td>\n",
       "      <td>4</td>\n",
       "      <td>2017-08-30</td>\n",
       "      <td>21:53:20</td>\n",
       "    </tr>\n",
       "    <tr>\n",
       "      <th>3</th>\n",
       "      <td>True</td>\n",
       "      <td>61</td>\n",
       "      <td>mate</td>\n",
       "      <td>white</td>\n",
       "      <td>20+0</td>\n",
       "      <td>daniamurashov</td>\n",
       "      <td>1439</td>\n",
       "      <td>adivanov2009</td>\n",
       "      <td>1454</td>\n",
       "      <td>D02</td>\n",
       "      <td>Queen's Pawn Game: Zukertort Variation</td>\n",
       "      <td>15</td>\n",
       "      <td>2017-08-30</td>\n",
       "      <td>16:20:00</td>\n",
       "    </tr>\n",
       "    <tr>\n",
       "      <th>4</th>\n",
       "      <td>True</td>\n",
       "      <td>95</td>\n",
       "      <td>mate</td>\n",
       "      <td>white</td>\n",
       "      <td>30+3</td>\n",
       "      <td>nik221107</td>\n",
       "      <td>1523</td>\n",
       "      <td>adivanov2009</td>\n",
       "      <td>1469</td>\n",
       "      <td>C41</td>\n",
       "      <td>Philidor Defense</td>\n",
       "      <td>54</td>\n",
       "      <td>2017-08-29</td>\n",
       "      <td>18:06:40</td>\n",
       "    </tr>\n",
       "  </tbody>\n",
       "</table>\n",
       "</div>"
      ],
      "text/plain": [
       "   Game Type  Turns Victory Status Winner Increment Code       White Id  \\\n",
       "0      False     13            OFT  white           15+2       bourgris   \n",
       "1       True     16         resign  black           5+10           a-00   \n",
       "2       True     61           mate  white           5+10         ischia   \n",
       "3       True     61           mate  white           20+0  daniamurashov   \n",
       "4       True     95           mate  white           30+3      nik221107   \n",
       "\n",
       "   White Rating      Black Id  Black Rating Opening ECO  \\\n",
       "0          1500          a-00          1191         D10   \n",
       "1          1322     skinnerua          1261         B00   \n",
       "2          1496          a-00          1500         C20   \n",
       "3          1439  adivanov2009          1454         D02   \n",
       "4          1523  adivanov2009          1469         C41   \n",
       "\n",
       "                             Opening Name  Rating Difference        Date  \\\n",
       "0        Slav Defense: Exchange Variation                309  2017-08-31   \n",
       "1  Nimzowitsch Defense: Kennedy Variation                 61  2017-08-30   \n",
       "2   King's Pawn Game: Leonardis Variation                  4  2017-08-30   \n",
       "3  Queen's Pawn Game: Zukertort Variation                 15  2017-08-30   \n",
       "4                        Philidor Defense                 54  2017-08-29   \n",
       "\n",
       "       Time  \n",
       "0  20:06:40  \n",
       "1  21:53:20  \n",
       "2  21:53:20  \n",
       "3  16:20:00  \n",
       "4  18:06:40  "
      ]
     },
     "execution_count": 18,
     "metadata": {},
     "output_type": "execute_result"
    }
   ],
   "source": [
    "df.drop(['Duration','Last Move At','Created At'], axis=1 ,inplace=True)\n",
    "df.head()"
   ]
  },
  {
   "cell_type": "markdown",
   "metadata": {},
   "source": [
    "Reset the Index of DataFrame"
   ]
  },
  {
   "cell_type": "code",
   "execution_count": 19,
   "metadata": {},
   "outputs": [],
   "source": [
    "df=df.reset_index()\n",
    "df.columns=df.columns.str.replace('index','Games')"
   ]
  },
  {
   "cell_type": "markdown",
   "metadata": {},
   "source": [
    "Convert Game Type from Bool to String "
   ]
  },
  {
   "cell_type": "code",
   "execution_count": 20,
   "metadata": {},
   "outputs": [],
   "source": [
    "df['Game Type'].replace(True,'Rated',inplace=True)\n",
    "df['Game Type'].replace(False,'Unrated',inplace=True)"
   ]
  },
  {
   "cell_type": "markdown",
   "metadata": {},
   "source": [
    "Remove Turns more than 250 ( I Conside them as outliers Although these Cases can be real, they can happen)"
   ]
  },
  {
   "cell_type": "code",
   "execution_count": 21,
   "metadata": {},
   "outputs": [],
   "source": [
    "df=df.drop(df[df['Turns']>250].index)\n",
    "df=df.drop(df[df['Turns']<=3].index)"
   ]
  },
  {
   "cell_type": "markdown",
   "metadata": {},
   "source": [
    "Create Winner Id Column"
   ]
  },
  {
   "cell_type": "code",
   "execution_count": 22,
   "metadata": {},
   "outputs": [
    {
     "data": {
      "text/html": [
       "<div>\n",
       "<style scoped>\n",
       "    .dataframe tbody tr th:only-of-type {\n",
       "        vertical-align: middle;\n",
       "    }\n",
       "\n",
       "    .dataframe tbody tr th {\n",
       "        vertical-align: top;\n",
       "    }\n",
       "\n",
       "    .dataframe thead th {\n",
       "        text-align: right;\n",
       "    }\n",
       "</style>\n",
       "<table border=\"1\" class=\"dataframe\">\n",
       "  <thead>\n",
       "    <tr style=\"text-align: right;\">\n",
       "      <th></th>\n",
       "      <th>Games</th>\n",
       "      <th>Game Type</th>\n",
       "      <th>Turns</th>\n",
       "      <th>Victory Status</th>\n",
       "      <th>Winner</th>\n",
       "      <th>Increment Code</th>\n",
       "      <th>White Id</th>\n",
       "      <th>White Rating</th>\n",
       "      <th>Black Id</th>\n",
       "      <th>Black Rating</th>\n",
       "      <th>Opening ECO</th>\n",
       "      <th>Opening Name</th>\n",
       "      <th>Rating Difference</th>\n",
       "      <th>Date</th>\n",
       "      <th>Time</th>\n",
       "      <th>BW Id</th>\n",
       "      <th>WW Id</th>\n",
       "    </tr>\n",
       "  </thead>\n",
       "  <tbody>\n",
       "    <tr>\n",
       "      <th>0</th>\n",
       "      <td>0</td>\n",
       "      <td>Unrated</td>\n",
       "      <td>13</td>\n",
       "      <td>OFT</td>\n",
       "      <td>white</td>\n",
       "      <td>15+2</td>\n",
       "      <td>bourgris</td>\n",
       "      <td>1500</td>\n",
       "      <td>a-00</td>\n",
       "      <td>1191</td>\n",
       "      <td>D10</td>\n",
       "      <td>Slav Defense: Exchange Variation</td>\n",
       "      <td>309</td>\n",
       "      <td>2017-08-31</td>\n",
       "      <td>20:06:40</td>\n",
       "      <td>bourgris</td>\n",
       "      <td>bourgris</td>\n",
       "    </tr>\n",
       "    <tr>\n",
       "      <th>1</th>\n",
       "      <td>1</td>\n",
       "      <td>Rated</td>\n",
       "      <td>16</td>\n",
       "      <td>resign</td>\n",
       "      <td>black</td>\n",
       "      <td>5+10</td>\n",
       "      <td>a-00</td>\n",
       "      <td>1322</td>\n",
       "      <td>skinnerua</td>\n",
       "      <td>1261</td>\n",
       "      <td>B00</td>\n",
       "      <td>Nimzowitsch Defense: Kennedy Variation</td>\n",
       "      <td>61</td>\n",
       "      <td>2017-08-30</td>\n",
       "      <td>21:53:20</td>\n",
       "      <td>skinnerua</td>\n",
       "      <td>NaN</td>\n",
       "    </tr>\n",
       "    <tr>\n",
       "      <th>2</th>\n",
       "      <td>2</td>\n",
       "      <td>Rated</td>\n",
       "      <td>61</td>\n",
       "      <td>mate</td>\n",
       "      <td>white</td>\n",
       "      <td>5+10</td>\n",
       "      <td>ischia</td>\n",
       "      <td>1496</td>\n",
       "      <td>a-00</td>\n",
       "      <td>1500</td>\n",
       "      <td>C20</td>\n",
       "      <td>King's Pawn Game: Leonardis Variation</td>\n",
       "      <td>4</td>\n",
       "      <td>2017-08-30</td>\n",
       "      <td>21:53:20</td>\n",
       "      <td>ischia</td>\n",
       "      <td>ischia</td>\n",
       "    </tr>\n",
       "    <tr>\n",
       "      <th>3</th>\n",
       "      <td>3</td>\n",
       "      <td>Rated</td>\n",
       "      <td>61</td>\n",
       "      <td>mate</td>\n",
       "      <td>white</td>\n",
       "      <td>20+0</td>\n",
       "      <td>daniamurashov</td>\n",
       "      <td>1439</td>\n",
       "      <td>adivanov2009</td>\n",
       "      <td>1454</td>\n",
       "      <td>D02</td>\n",
       "      <td>Queen's Pawn Game: Zukertort Variation</td>\n",
       "      <td>15</td>\n",
       "      <td>2017-08-30</td>\n",
       "      <td>16:20:00</td>\n",
       "      <td>daniamurashov</td>\n",
       "      <td>daniamurashov</td>\n",
       "    </tr>\n",
       "    <tr>\n",
       "      <th>4</th>\n",
       "      <td>4</td>\n",
       "      <td>Rated</td>\n",
       "      <td>95</td>\n",
       "      <td>mate</td>\n",
       "      <td>white</td>\n",
       "      <td>30+3</td>\n",
       "      <td>nik221107</td>\n",
       "      <td>1523</td>\n",
       "      <td>adivanov2009</td>\n",
       "      <td>1469</td>\n",
       "      <td>C41</td>\n",
       "      <td>Philidor Defense</td>\n",
       "      <td>54</td>\n",
       "      <td>2017-08-29</td>\n",
       "      <td>18:06:40</td>\n",
       "      <td>nik221107</td>\n",
       "      <td>nik221107</td>\n",
       "    </tr>\n",
       "  </tbody>\n",
       "</table>\n",
       "</div>"
      ],
      "text/plain": [
       "  Games Game Type Turns Victory Status Winner Increment Code       White Id  \\\n",
       "0     0   Unrated    13            OFT  white           15+2       bourgris   \n",
       "1     1     Rated    16         resign  black           5+10           a-00   \n",
       "2     2     Rated    61           mate  white           5+10         ischia   \n",
       "3     3     Rated    61           mate  white           20+0  daniamurashov   \n",
       "4     4     Rated    95           mate  white           30+3      nik221107   \n",
       "\n",
       "  White Rating      Black Id Black Rating Opening ECO  \\\n",
       "0         1500          a-00         1191         D10   \n",
       "1         1322     skinnerua         1261         B00   \n",
       "2         1496          a-00         1500         C20   \n",
       "3         1439  adivanov2009         1454         D02   \n",
       "4         1523  adivanov2009         1469         C41   \n",
       "\n",
       "                             Opening Name Rating Difference        Date  \\\n",
       "0        Slav Defense: Exchange Variation               309  2017-08-31   \n",
       "1  Nimzowitsch Defense: Kennedy Variation                61  2017-08-30   \n",
       "2   King's Pawn Game: Leonardis Variation                 4  2017-08-30   \n",
       "3  Queen's Pawn Game: Zukertort Variation                15  2017-08-30   \n",
       "4                        Philidor Defense                54  2017-08-29   \n",
       "\n",
       "       Time          BW Id          WW Id  \n",
       "0  20:06:40       bourgris       bourgris  \n",
       "1  21:53:20      skinnerua            NaN  \n",
       "2  21:53:20         ischia         ischia  \n",
       "3  16:20:00  daniamurashov  daniamurashov  \n",
       "4  18:06:40      nik221107      nik221107  "
      ]
     },
     "execution_count": 22,
     "metadata": {},
     "output_type": "execute_result"
    }
   ],
   "source": [
    "A=df.groupby('Winner').groups   \n",
    "df['BW Id']=df.loc[A['black'],['Black Id']]\n",
    "df['WW Id']=df.loc[A['white'],['White Id']]\n",
    "df=df.replace('NaN',np.nan)\n",
    "df=df.fillna(method='bfill' , axis=1 )\n",
    "df.head()"
   ]
  },
  {
   "cell_type": "code",
   "execution_count": 23,
   "metadata": {},
   "outputs": [
    {
     "data": {
      "text/plain": [
       "{'black': [1, 7, 8, 11, 12, 13, 15, 16, 17, 18, 20, 24, 27, 28, 29, 30, 31, 33, 35, 37, 41, 50, 53, 57, 58, 60, 62, 64, 67, 69, 70, 72, 73, 78, 79, 83, 87, 88, 89, 93, 94, 104, 105, 109, 110, 111, 112, 114, 116, 117, 118, 120, 122, 124, 125, 127, 128, 129, 131, 133, 134, 139, 147, 148, 149, 151, 154, 159, 163, 169, 170, 171, 172, 173, 175, 177, 178, 180, 184, 186, 187, 188, 189, 190, 191, 192, 193, 196, 198, 199, 200, 203, 207, 208, 209, 210, 215, 216, 217, 218, ...], 'draw': [5, 40, 98, 126, 143, 176, 181, 220, 227, 239, 269, 291, 301, 319, 326, 350, 360, 370, 376, 382, 406, 433, 440, 446, 451, 465, 476, 487, 516, 552, 576, 577, 584, 600, 634, 756, 757, 761, 769, 792, 825, 830, 852, 868, 945, 946, 947, 948, 949, 954, 955, 957, 1013, 1022, 1079, 1125, 1148, 1151, 1164, 1185, 1199, 1206, 1219, 1249, 1265, 1326, 1335, 1384, 1392, 1399, 1418, 1443, 1444, 1447, 1494, 1503, 1527, 1532, 1547, 1581, 1594, 1613, 1642, 1661, 1684, 1685, 1686, 1733, 1757, 1774, 1789, 1810, 1823, 1828, 1849, 1850, 1857, 1868, 1878, 1982, ...], 'white': [0, 2, 3, 4, 6, 9, 10, 14, 19, 22, 23, 25, 26, 32, 34, 36, 38, 39, 42, 43, 44, 45, 47, 48, 49, 51, 52, 54, 56, 59, 61, 63, 65, 66, 68, 71, 74, 75, 76, 77, 80, 81, 82, 84, 85, 86, 90, 91, 92, 95, 96, 97, 99, 100, 101, 102, 103, 106, 107, 108, 113, 115, 119, 121, 123, 130, 132, 135, 136, 137, 138, 140, 142, 144, 145, 146, 150, 152, 153, 155, 156, 157, 158, 160, 161, 162, 164, 165, 166, 167, 168, 174, 179, 182, 183, 185, 194, 195, 197, 201, ...]}"
      ]
     },
     "execution_count": 23,
     "metadata": {},
     "output_type": "execute_result"
    }
   ],
   "source": [
    "A"
   ]
  },
  {
   "cell_type": "markdown",
   "metadata": {},
   "source": [
    "Change Column Name and Drop Unnecessary Columns\n"
   ]
  },
  {
   "cell_type": "code",
   "execution_count": 24,
   "metadata": {},
   "outputs": [
    {
     "data": {
      "text/html": [
       "<div>\n",
       "<style scoped>\n",
       "    .dataframe tbody tr th:only-of-type {\n",
       "        vertical-align: middle;\n",
       "    }\n",
       "\n",
       "    .dataframe tbody tr th {\n",
       "        vertical-align: top;\n",
       "    }\n",
       "\n",
       "    .dataframe thead th {\n",
       "        text-align: right;\n",
       "    }\n",
       "</style>\n",
       "<table border=\"1\" class=\"dataframe\">\n",
       "  <thead>\n",
       "    <tr style=\"text-align: right;\">\n",
       "      <th></th>\n",
       "      <th>Games</th>\n",
       "      <th>Game Type</th>\n",
       "      <th>Turns</th>\n",
       "      <th>Victory Status</th>\n",
       "      <th>Winner</th>\n",
       "      <th>Increment Code</th>\n",
       "      <th>White Id</th>\n",
       "      <th>White Rating</th>\n",
       "      <th>Black Id</th>\n",
       "      <th>Black Rating</th>\n",
       "      <th>Opening ECO</th>\n",
       "      <th>Opening Name</th>\n",
       "      <th>Rating Difference</th>\n",
       "      <th>Date</th>\n",
       "      <th>Time</th>\n",
       "      <th>Winner Id</th>\n",
       "    </tr>\n",
       "  </thead>\n",
       "  <tbody>\n",
       "    <tr>\n",
       "      <th>0</th>\n",
       "      <td>0</td>\n",
       "      <td>Unrated</td>\n",
       "      <td>13</td>\n",
       "      <td>OFT</td>\n",
       "      <td>white</td>\n",
       "      <td>15+2</td>\n",
       "      <td>bourgris</td>\n",
       "      <td>1500</td>\n",
       "      <td>a-00</td>\n",
       "      <td>1191</td>\n",
       "      <td>D10</td>\n",
       "      <td>Slav Defense: Exchange Variation</td>\n",
       "      <td>309</td>\n",
       "      <td>2017-08-31</td>\n",
       "      <td>20:06:40</td>\n",
       "      <td>bourgris</td>\n",
       "    </tr>\n",
       "    <tr>\n",
       "      <th>1</th>\n",
       "      <td>1</td>\n",
       "      <td>Rated</td>\n",
       "      <td>16</td>\n",
       "      <td>resign</td>\n",
       "      <td>black</td>\n",
       "      <td>5+10</td>\n",
       "      <td>a-00</td>\n",
       "      <td>1322</td>\n",
       "      <td>skinnerua</td>\n",
       "      <td>1261</td>\n",
       "      <td>B00</td>\n",
       "      <td>Nimzowitsch Defense: Kennedy Variation</td>\n",
       "      <td>61</td>\n",
       "      <td>2017-08-30</td>\n",
       "      <td>21:53:20</td>\n",
       "      <td>skinnerua</td>\n",
       "    </tr>\n",
       "    <tr>\n",
       "      <th>2</th>\n",
       "      <td>2</td>\n",
       "      <td>Rated</td>\n",
       "      <td>61</td>\n",
       "      <td>mate</td>\n",
       "      <td>white</td>\n",
       "      <td>5+10</td>\n",
       "      <td>ischia</td>\n",
       "      <td>1496</td>\n",
       "      <td>a-00</td>\n",
       "      <td>1500</td>\n",
       "      <td>C20</td>\n",
       "      <td>King's Pawn Game: Leonardis Variation</td>\n",
       "      <td>4</td>\n",
       "      <td>2017-08-30</td>\n",
       "      <td>21:53:20</td>\n",
       "      <td>ischia</td>\n",
       "    </tr>\n",
       "    <tr>\n",
       "      <th>3</th>\n",
       "      <td>3</td>\n",
       "      <td>Rated</td>\n",
       "      <td>61</td>\n",
       "      <td>mate</td>\n",
       "      <td>white</td>\n",
       "      <td>20+0</td>\n",
       "      <td>daniamurashov</td>\n",
       "      <td>1439</td>\n",
       "      <td>adivanov2009</td>\n",
       "      <td>1454</td>\n",
       "      <td>D02</td>\n",
       "      <td>Queen's Pawn Game: Zukertort Variation</td>\n",
       "      <td>15</td>\n",
       "      <td>2017-08-30</td>\n",
       "      <td>16:20:00</td>\n",
       "      <td>daniamurashov</td>\n",
       "    </tr>\n",
       "    <tr>\n",
       "      <th>4</th>\n",
       "      <td>4</td>\n",
       "      <td>Rated</td>\n",
       "      <td>95</td>\n",
       "      <td>mate</td>\n",
       "      <td>white</td>\n",
       "      <td>30+3</td>\n",
       "      <td>nik221107</td>\n",
       "      <td>1523</td>\n",
       "      <td>adivanov2009</td>\n",
       "      <td>1469</td>\n",
       "      <td>C41</td>\n",
       "      <td>Philidor Defense</td>\n",
       "      <td>54</td>\n",
       "      <td>2017-08-29</td>\n",
       "      <td>18:06:40</td>\n",
       "      <td>nik221107</td>\n",
       "    </tr>\n",
       "  </tbody>\n",
       "</table>\n",
       "</div>"
      ],
      "text/plain": [
       "  Games Game Type Turns Victory Status Winner Increment Code       White Id  \\\n",
       "0     0   Unrated    13            OFT  white           15+2       bourgris   \n",
       "1     1     Rated    16         resign  black           5+10           a-00   \n",
       "2     2     Rated    61           mate  white           5+10         ischia   \n",
       "3     3     Rated    61           mate  white           20+0  daniamurashov   \n",
       "4     4     Rated    95           mate  white           30+3      nik221107   \n",
       "\n",
       "  White Rating      Black Id Black Rating Opening ECO  \\\n",
       "0         1500          a-00         1191         D10   \n",
       "1         1322     skinnerua         1261         B00   \n",
       "2         1496          a-00         1500         C20   \n",
       "3         1439  adivanov2009         1454         D02   \n",
       "4         1523  adivanov2009         1469         C41   \n",
       "\n",
       "                             Opening Name Rating Difference        Date  \\\n",
       "0        Slav Defense: Exchange Variation               309  2017-08-31   \n",
       "1  Nimzowitsch Defense: Kennedy Variation                61  2017-08-30   \n",
       "2   King's Pawn Game: Leonardis Variation                 4  2017-08-30   \n",
       "3  Queen's Pawn Game: Zukertort Variation                15  2017-08-30   \n",
       "4                        Philidor Defense                54  2017-08-29   \n",
       "\n",
       "       Time      Winner Id  \n",
       "0  20:06:40       bourgris  \n",
       "1  21:53:20      skinnerua  \n",
       "2  21:53:20         ischia  \n",
       "3  16:20:00  daniamurashov  \n",
       "4  18:06:40      nik221107  "
      ]
     },
     "execution_count": 24,
     "metadata": {},
     "output_type": "execute_result"
    }
   ],
   "source": [
    "df.columns=df.columns.str.replace('BW Id','Winner Id')\n",
    "df.drop('WW Id', axis=1, inplace=True)\n",
    "df.head()"
   ]
  },
  {
   "cell_type": "code",
   "execution_count": 25,
   "metadata": {},
   "outputs": [
    {
     "data": {
      "text/plain": [
       "resign    10706\n",
       "mate       6188\n",
       "OFT        1588\n",
       "draw        860\n",
       "Name: Victory Status, dtype: int64"
      ]
     },
     "execution_count": 25,
     "metadata": {},
     "output_type": "execute_result"
    }
   ],
   "source": [
    "df['Victory Status'].value_counts()"
   ]
  },
  {
   "cell_type": "markdown",
   "metadata": {},
   "source": [
    "Grouping Game Type"
   ]
  },
  {
   "cell_type": "code",
   "execution_count": 26,
   "metadata": {},
   "outputs": [],
   "source": [
    "df_Rated=df.groupby('Game Type').get_group('Rated')\n",
    "df_Unrated=df.groupby('Game Type').get_group('Unrated')"
   ]
  },
  {
   "cell_type": "markdown",
   "metadata": {},
   "source": [
    "Grouping According to Victory"
   ]
  },
  {
   "cell_type": "code",
   "execution_count": 27,
   "metadata": {},
   "outputs": [],
   "source": [
    "df_Resign=df.groupby('Victory Status').get_group('resign')\n",
    "df_Mate=df.groupby('Victory Status').get_group('mate')\n",
    "df_OutOfTime=df.groupby('Victory Status').get_group('OFT')\n",
    "df_Draw=df.groupby('Victory Status').get_group('draw')"
   ]
  },
  {
   "cell_type": "markdown",
   "metadata": {},
   "source": [
    "# Finish The Processing and Saving Files\n"
   ]
  },
  {
   "cell_type": "markdown",
   "metadata": {},
   "source": [
    "Saving Full DataFrame"
   ]
  },
  {
   "cell_type": "code",
   "execution_count": 28,
   "metadata": {},
   "outputs": [],
   "source": [
    "df.to_csv('Full Data.csv')"
   ]
  },
  {
   "cell_type": "markdown",
   "metadata": {},
   "source": [
    "Saving Game Type"
   ]
  },
  {
   "cell_type": "code",
   "execution_count": 29,
   "metadata": {},
   "outputs": [],
   "source": [
    "df_Rated.to_csv('Rated Games.csv')\n",
    "df_Unrated.to_csv('Unrated Games.csv')"
   ]
  },
  {
   "cell_type": "markdown",
   "metadata": {},
   "source": [
    "Saving Visctory State"
   ]
  },
  {
   "cell_type": "code",
   "execution_count": 30,
   "metadata": {},
   "outputs": [],
   "source": [
    "df_Resign.to_csv('Resign_games.csv')\n",
    "df_Mate.to_csv('Mate_games.csv')\n",
    "df_OutOfTime.to_csv('OutOfTime_games.csv')\n",
    "df_Draw.to_csv('Draw_games.csv')"
   ]
  },
  {
   "cell_type": "markdown",
   "metadata": {},
   "source": [
    "# visualization (Power BI)"
   ]
  }
 ],
 "metadata": {
  "kernelspec": {
   "display_name": "Python 3.9.10 64-bit",
   "language": "python",
   "name": "python3"
  },
  "language_info": {
   "codemirror_mode": {
    "name": "ipython",
    "version": 3
   },
   "file_extension": ".py",
   "mimetype": "text/x-python",
   "name": "python",
   "nbconvert_exporter": "python",
   "pygments_lexer": "ipython3",
   "version": "3.9.10"
  },
  "orig_nbformat": 4,
  "vscode": {
   "interpreter": {
    "hash": "713d5413e0ec6de9fbbd46191808d81bc2f5abf47a93892e38efba0fb01f375b"
   }
  }
 },
 "nbformat": 4,
 "nbformat_minor": 2
}
